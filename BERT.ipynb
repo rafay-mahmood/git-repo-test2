{
 "cells": [
  {
   "cell_type": "code",
   "execution_count": 1,
   "id": "fbafdb0d",
   "metadata": {},
   "outputs": [],
   "source": [
    "import numpy as np\n",
    "import pandas as pd"
   ]
  },
  {
   "cell_type": "code",
   "execution_count": 2,
   "id": "e7daed02",
   "metadata": {},
   "outputs": [],
   "source": [
    "import tensorflow as tf\n",
    "How are you"
   ]
  },
  {
   "cell_type": "code",
   "execution_count": 3,
   "id": "f61c63f1",
   "metadata": {},
   "outputs": [],
   "source": [
    "import re \n",
    "from tensorflow.keras.models import Sequential\n",
    "from tensorflow.keras.layers import Embedding,LSTM,Dropout,Dense\n",
    "from tensorflow.keras.preprocessing.text import Tokenizer\n",
    "from tensorflow.keras.preprocessing.sequence import pad_sequences\n",
    "from nltk.corpus import stopwords\n",
    "import tensorflow_hub as hub\n",
    "\n",
    "from sklearn.model_selection import train_test_split"
   ]
  },
  {
   "cell_type": "code",
   "execution_count": 4,
   "id": "bfe5d781",
   "metadata": {},
   "outputs": [],
   "source": [
    "import tensorflow_text"
   ]
  },
  {
   "cell_type": "code",
   "execution_count": 5,
   "id": "b5269086",
   "metadata": {},
   "outputs": [],
   "source": [
    "headers=[\"Text\",\"Status\"]"
   ]
  },
  {
   "cell_type": "code",
   "execution_count": 6,
   "id": "8f244e1e",
   "metadata": {},
   "outputs": [],
   "source": [
    "df = pd.read_csv(\"Data.csv\",header=None,encoding='cp1252')\n",
    "df.columns = headers"
   ]
  },
  {
   "cell_type": "code",
   "execution_count": 7,
   "id": "93f669f7",
   "metadata": {},
   "outputs": [
    {
     "data": {
      "text/html": [
       "<div>\n",
       "<style scoped>\n",
       "    .dataframe tbody tr th:only-of-type {\n",
       "        vertical-align: middle;\n",
       "    }\n",
       "\n",
       "    .dataframe tbody tr th {\n",
       "        vertical-align: top;\n",
       "    }\n",
       "\n",
       "    .dataframe thead th {\n",
       "        text-align: right;\n",
       "    }\n",
       "</style>\n",
       "<table border=\"1\" class=\"dataframe\">\n",
       "  <thead>\n",
       "    <tr style=\"text-align: right;\">\n",
       "      <th></th>\n",
       "      <th>Text</th>\n",
       "      <th>Status</th>\n",
       "    </tr>\n",
       "  </thead>\n",
       "  <tbody>\n",
       "    <tr>\n",
       "      <th>0</th>\n",
       "      <td>Hey {{Name}}, This is to confirm today's call ...</td>\n",
       "      <td>1</td>\n",
       "    </tr>\n",
       "    <tr>\n",
       "      <th>1</th>\n",
       "      <td>A reminder that you are scheduled to interview...</td>\n",
       "      <td>0</td>\n",
       "    </tr>\n",
       "    <tr>\n",
       "      <th>2</th>\n",
       "      <td>That's amazing news! Can't wait to hear how th...</td>\n",
       "      <td>1</td>\n",
       "    </tr>\n",
       "    <tr>\n",
       "      <th>3</th>\n",
       "      <td>I hope {{Name}} was able to translate your exp...</td>\n",
       "      <td>1</td>\n",
       "    </tr>\n",
       "    <tr>\n",
       "      <th>4</th>\n",
       "      <td>Please let me know whether or not you will be ...</td>\n",
       "      <td>0</td>\n",
       "    </tr>\n",
       "  </tbody>\n",
       "</table>\n",
       "</div>"
      ],
      "text/plain": [
       "                                                Text  Status\n",
       "0  Hey {{Name}}, This is to confirm today's call ...       1\n",
       "1  A reminder that you are scheduled to interview...       0\n",
       "2  That's amazing news! Can't wait to hear how th...       1\n",
       "3  I hope {{Name}} was able to translate your exp...       1\n",
       "4  Please let me know whether or not you will be ...       0"
      ]
     },
     "execution_count": 7,
     "metadata": {},
     "output_type": "execute_result"
    }
   ],
   "source": [
    "df.head()"
   ]
  },
  {
   "cell_type": "code",
   "execution_count": 8,
   "id": "cefd9b5f",
   "metadata": {},
   "outputs": [],
   "source": [
    "X_train, X_test, y_train, y_test = train_test_split(df, df, random_state=0, train_size = .85)"
   ]
  },
  {
   "cell_type": "code",
   "execution_count": 9,
   "id": "f4afff39",
   "metadata": {},
   "outputs": [],
   "source": [
    "X_train = pd.DataFrame(X_train)\n",
    "X_test = pd.DataFrame(X_test)"
   ]
  },
  {
   "cell_type": "code",
   "execution_count": 10,
   "id": "4d61383f",
   "metadata": {},
   "outputs": [],
   "source": [
    "train = pd.DataFrame(X_train)\n",
    "test = pd.DataFrame(X_test)"
   ]
  },
  {
   "cell_type": "code",
   "execution_count": 11,
   "id": "ed06889e",
   "metadata": {},
   "outputs": [],
   "source": [
    "vocab_size = 5000\n",
    "max_len = 30"
   ]
  },
  {
   "cell_type": "code",
   "execution_count": 19,
   "id": "d0f2d1b9",
   "metadata": {
    "scrolled": true
   },
   "outputs": [],
   "source": [
    "def clean(text):\n",
    "    text = text.lower()\n",
    "    text = re.sub(\"(http|https|www)(:|\\.)\\S+.com\",\" \",text)\n",
    "    text = re.sub(\"[^\\w\\d]\",\" \",text)\n",
    "    text = \" \".join([t for t in text.split()])\n",
    "    return text "
   ]
  },
  {
   "cell_type": "code",
   "execution_count": 20,
   "id": "18fffa9f",
   "metadata": {
    "scrolled": true
   },
   "outputs": [],
   "source": [
    "X_train['Cleaned']=  X_train['Text'].apply(lambda x : clean(x))"
   ]
  },
  {
   "cell_type": "code",
   "execution_count": 21,
   "id": "850efc44",
   "metadata": {},
   "outputs": [
    {
     "data": {
      "text/html": [
       "<div>\n",
       "<style scoped>\n",
       "    .dataframe tbody tr th:only-of-type {\n",
       "        vertical-align: middle;\n",
       "    }\n",
       "\n",
       "    .dataframe tbody tr th {\n",
       "        vertical-align: top;\n",
       "    }\n",
       "\n",
       "    .dataframe thead th {\n",
       "        text-align: right;\n",
       "    }\n",
       "</style>\n",
       "<table border=\"1\" class=\"dataframe\">\n",
       "  <thead>\n",
       "    <tr style=\"text-align: right;\">\n",
       "      <th></th>\n",
       "      <th>Text</th>\n",
       "      <th>Status</th>\n",
       "      <th>Cleaned</th>\n",
       "    </tr>\n",
       "  </thead>\n",
       "  <tbody>\n",
       "    <tr>\n",
       "      <th>1292</th>\n",
       "      <td>I stopped by and missed you. Write back to me ...</td>\n",
       "      <td>0</td>\n",
       "      <td>i stopped by and missed you write back to me w...</td>\n",
       "    </tr>\n",
       "    <tr>\n",
       "      <th>379</th>\n",
       "      <td>{{Name}} was working on {{Project}} earlier to...</td>\n",
       "      <td>1</td>\n",
       "      <td>name was working on project earlier today and ...</td>\n",
       "    </tr>\n",
       "    <tr>\n",
       "      <th>399</th>\n",
       "      <td>Are you going to make tomorrow?</td>\n",
       "      <td>0</td>\n",
       "      <td>are you going to make tomorrow</td>\n",
       "    </tr>\n",
       "    <tr>\n",
       "      <th>1609</th>\n",
       "      <td>Hi {{Name}}, attaching a proposal for our team...</td>\n",
       "      <td>1</td>\n",
       "      <td>hi name attaching a proposal for our team to w...</td>\n",
       "    </tr>\n",
       "    <tr>\n",
       "      <th>117</th>\n",
       "      <td>Hi {{Name}}, attaching a proposal for our team...</td>\n",
       "      <td>1</td>\n",
       "      <td>hi name attaching a proposal for our team to w...</td>\n",
       "    </tr>\n",
       "  </tbody>\n",
       "</table>\n",
       "</div>"
      ],
      "text/plain": [
       "                                                   Text  Status  \\\n",
       "1292  I stopped by and missed you. Write back to me ...       0   \n",
       "379   {{Name}} was working on {{Project}} earlier to...       1   \n",
       "399                     Are you going to make tomorrow?       0   \n",
       "1609  Hi {{Name}}, attaching a proposal for our team...       1   \n",
       "117   Hi {{Name}}, attaching a proposal for our team...       1   \n",
       "\n",
       "                                                Cleaned  \n",
       "1292  i stopped by and missed you write back to me w...  \n",
       "379   name was working on project earlier today and ...  \n",
       "399                      are you going to make tomorrow  \n",
       "1609  hi name attaching a proposal for our team to w...  \n",
       "117   hi name attaching a proposal for our team to w...  "
      ]
     },
     "execution_count": 21,
     "metadata": {},
     "output_type": "execute_result"
    }
   ],
   "source": [
    "X_train.head()"
   ]
  },
  {
   "cell_type": "code",
   "execution_count": null,
   "id": "cab5e56e",
   "metadata": {},
   "outputs": [],
   "source": [
    "token = Tokenizer(num_words=vocab_size)\n",
    "token.fit_on_texts(X_train['Cleaned'])\n",
    "\n",
    "X_train = token.texts_to_sequences(X_train['Cleaned'])"
   ]
  },
  {
   "cell_type": "code",
   "execution_count": null,
   "id": "4198ef2c",
   "metadata": {},
   "outputs": [],
   "source": [
    "X_test = X_test['Text'].apply(lambda x : clean(x))\n",
    "X_test = token.texts_to_sequences(X_test)"
   ]
  },
  {
   "cell_type": "code",
   "execution_count": null,
   "id": "4a0397c6",
   "metadata": {},
   "outputs": [],
   "source": [
    "X_test = pad_sequences(X_test,padding='pre',truncating='pre',maxlen=max_len)"
   ]
  },
  {
   "cell_type": "code",
   "execution_count": null,
   "id": "1c081d4c",
   "metadata": {
    "scrolled": true
   },
   "outputs": [],
   "source": [
    "X_train = pad_sequences(X_train,maxlen=max_len,padding='pre',truncating='pre')"
   ]
  },
  {
   "cell_type": "code",
   "execution_count": null,
   "id": "7ade110b",
   "metadata": {},
   "outputs": [],
   "source": [
    "X_test"
   ]
  },
  {
   "cell_type": "code",
   "execution_count": null,
   "id": "3f2ffc69",
   "metadata": {},
   "outputs": [],
   "source": [
    "preprocess = hub.load('https://tfhub.dev/tensorflow/bert_en_uncased_preprocess/3')\n"
   ]
  },
  {
   "cell_type": "code",
   "execution_count": null,
   "id": "c0d99fc6",
   "metadata": {},
   "outputs": [],
   "source": [
    "encoder = hub.load('https://tfhub.dev/tensorflow/bert_en_uncased_L-12_H-768_A-12/4')"
   ]
  },
  {
   "cell_type": "code",
   "execution_count": 13,
   "id": "482f3270",
   "metadata": {},
   "outputs": [
    {
     "name": "stdout",
     "output_type": "stream",
     "text": [
      "WARNING:tensorflow:Please fix your imports. Module tensorflow.python.training.tracking.data_structures has been moved to tensorflow.python.trackable.data_structures. The old module will be deleted in version 2.11.\n"
     ]
    }
   ],
   "source": [
    "bert_preprocessor = hub.KerasLayer('https://tfhub.dev/tensorflow/bert_en_uncased_preprocess/3')\n",
    "bert_encoder = hub.KerasLayer('https://tfhub.dev/tensorflow/bert_en_uncased_L-12_H-768_A-12/4')"
   ]
  },
  {
   "cell_type": "code",
   "execution_count": null,
   "id": "08ba2074",
   "metadata": {},
   "outputs": [],
   "source": [
    "# bert_preprocessor = hub.KerasLayer('https://tfhub.dev/tensorflow/bert_en_uncased_preprocess/3')\n",
    "# bert_encoder = hub.KerasLayer('https://tfhub.dev/tensorflow/bert_en_uncased_L-12_H-768_A-12/4')"
   ]
  },
  {
   "cell_type": "code",
   "execution_count": 14,
   "id": "6f1d4342",
   "metadata": {},
   "outputs": [],
   "source": [
    "text_input = tf.keras.layers.Input(shape = (), dtype = tf.string, name = 'Inputs')\n",
    "preprocessed_text = bert_preprocessor(text_input)\n",
    "embeed = bert_encoder(preprocessed_text)\n",
    "dropout = tf.keras.layers.Dropout(0.1, name = 'Dropout')(embeed['pooled_output'])\n",
    "outputs = tf.keras.layers.Dense(1, activation = 'sigmoid', name = 'Dense')(dropout)\n",
    "\n",
    "# creating final model\n",
    "model = tf.keras.Model(inputs = [text_input], outputs = [outputs])"
   ]
  },
  {
   "cell_type": "code",
   "execution_count": null,
   "id": "87e4a185",
   "metadata": {},
   "outputs": [],
   "source": []
  },
  {
   "cell_type": "code",
   "execution_count": 17,
   "id": "f8e83811",
   "metadata": {},
   "outputs": [],
   "source": [
    "model.compile(loss='binary_crossentropy',optimizer='adam',metrics=['acc'])"
   ]
  },
  {
   "cell_type": "code",
   "execution_count": 15,
   "id": "e342c175",
   "metadata": {
    "scrolled": true
   },
   "outputs": [
    {
     "name": "stdout",
     "output_type": "stream",
     "text": [
      "Model: \"model\"\n",
      "__________________________________________________________________________________________________\n",
      " Layer (type)                   Output Shape         Param #     Connected to                     \n",
      "==================================================================================================\n",
      " Inputs (InputLayer)            [(None,)]            0           []                               \n",
      "                                                                                                  \n",
      " keras_layer (KerasLayer)       {'input_type_ids':   0           ['Inputs[0][0]']                 \n",
      "                                (None, 128),                                                      \n",
      "                                 'input_mask': (Non                                               \n",
      "                                e, 128),                                                          \n",
      "                                 'input_word_ids':                                                \n",
      "                                (None, 128)}                                                      \n",
      "                                                                                                  \n",
      " keras_layer_1 (KerasLayer)     {'sequence_output':  109482241   ['keras_layer[0][0]',            \n",
      "                                 (None, 128, 768),                'keras_layer[0][1]',            \n",
      "                                 'default': (None,                'keras_layer[0][2]']            \n",
      "                                768),                                                             \n",
      "                                 'pooled_output': (                                               \n",
      "                                None, 768),                                                       \n",
      "                                 'encoder_outputs':                                               \n",
      "                                 [(None, 128, 768),                                               \n",
      "                                 (None, 128, 768),                                                \n",
      "                                 (None, 128, 768),                                                \n",
      "                                 (None, 128, 768),                                                \n",
      "                                 (None, 128, 768),                                                \n",
      "                                 (None, 128, 768),                                                \n",
      "                                 (None, 128, 768),                                                \n",
      "                                 (None, 128, 768),                                                \n",
      "                                 (None, 128, 768),                                                \n",
      "                                 (None, 128, 768),                                                \n",
      "                                 (None, 128, 768),                                                \n",
      "                                 (None, 128, 768)]}                                               \n",
      "                                                                                                  \n",
      " Dropout (Dropout)              (None, 768)          0           ['keras_layer_1[0][13]']         \n",
      "                                                                                                  \n",
      " Dense (Dense)                  (None, 1)            769         ['Dropout[0][0]']                \n",
      "                                                                                                  \n",
      "==================================================================================================\n",
      "Total params: 109,483,010\n",
      "Trainable params: 769\n",
      "Non-trainable params: 109,482,241\n",
      "__________________________________________________________________________________________________\n"
     ]
    }
   ],
   "source": [
    "model.summary()"
   ]
  },
  {
   "cell_type": "code",
   "execution_count": 23,
   "id": "711ed940",
   "metadata": {},
   "outputs": [
    {
     "ename": "ValueError",
     "evalue": "Failed to convert a NumPy array to a Tensor (Unsupported object type int).",
     "output_type": "error",
     "traceback": [
      "\u001b[1;31m---------------------------------------------------------------------------\u001b[0m",
      "\u001b[1;31mValueError\u001b[0m                                Traceback (most recent call last)",
      "Cell \u001b[1;32mIn[23], line 1\u001b[0m\n\u001b[1;32m----> 1\u001b[0m history \u001b[38;5;241m=\u001b[39m  \u001b[43mmodel\u001b[49m\u001b[38;5;241;43m.\u001b[39;49m\u001b[43mfit\u001b[49m\u001b[43m(\u001b[49m\u001b[43mX_train\u001b[49m\u001b[43m,\u001b[49m\u001b[43my_train\u001b[49m\u001b[43m,\u001b[49m\u001b[43mepochs\u001b[49m\u001b[38;5;241;43m=\u001b[39;49m\u001b[38;5;241;43m5\u001b[39;49m\u001b[43m)\u001b[49m\n",
      "File \u001b[1;32m~\\anaconda3\\envs\\tensorflow\\lib\\site-packages\\keras\\utils\\traceback_utils.py:70\u001b[0m, in \u001b[0;36mfilter_traceback.<locals>.error_handler\u001b[1;34m(*args, **kwargs)\u001b[0m\n\u001b[0;32m     67\u001b[0m     filtered_tb \u001b[38;5;241m=\u001b[39m _process_traceback_frames(e\u001b[38;5;241m.\u001b[39m__traceback__)\n\u001b[0;32m     68\u001b[0m     \u001b[38;5;66;03m# To get the full stack trace, call:\u001b[39;00m\n\u001b[0;32m     69\u001b[0m     \u001b[38;5;66;03m# `tf.debugging.disable_traceback_filtering()`\u001b[39;00m\n\u001b[1;32m---> 70\u001b[0m     \u001b[38;5;28;01mraise\u001b[39;00m e\u001b[38;5;241m.\u001b[39mwith_traceback(filtered_tb) \u001b[38;5;28;01mfrom\u001b[39;00m \u001b[38;5;28mNone\u001b[39m\n\u001b[0;32m     71\u001b[0m \u001b[38;5;28;01mfinally\u001b[39;00m:\n\u001b[0;32m     72\u001b[0m     \u001b[38;5;28;01mdel\u001b[39;00m filtered_tb\n",
      "File \u001b[1;32m~\\anaconda3\\envs\\tensorflow\\lib\\site-packages\\tensorflow\\python\\framework\\constant_op.py:102\u001b[0m, in \u001b[0;36mconvert_to_eager_tensor\u001b[1;34m(value, ctx, dtype)\u001b[0m\n\u001b[0;32m    100\u001b[0m     dtype \u001b[38;5;241m=\u001b[39m dtypes\u001b[38;5;241m.\u001b[39mas_dtype(dtype)\u001b[38;5;241m.\u001b[39mas_datatype_enum\n\u001b[0;32m    101\u001b[0m ctx\u001b[38;5;241m.\u001b[39mensure_initialized()\n\u001b[1;32m--> 102\u001b[0m \u001b[38;5;28;01mreturn\u001b[39;00m \u001b[43mops\u001b[49m\u001b[38;5;241;43m.\u001b[39;49m\u001b[43mEagerTensor\u001b[49m\u001b[43m(\u001b[49m\u001b[43mvalue\u001b[49m\u001b[43m,\u001b[49m\u001b[43m \u001b[49m\u001b[43mctx\u001b[49m\u001b[38;5;241;43m.\u001b[39;49m\u001b[43mdevice_name\u001b[49m\u001b[43m,\u001b[49m\u001b[43m \u001b[49m\u001b[43mdtype\u001b[49m\u001b[43m)\u001b[49m\n",
      "\u001b[1;31mValueError\u001b[0m: Failed to convert a NumPy array to a Tensor (Unsupported object type int)."
     ]
    }
   ],
   "source": [
    "history =  model.fit(X_train,y_train,epochs=5)\n",
    "# history = model.fit(X_train,y_train)"
   ]
  },
  {
   "cell_type": "code",
   "execution_count": null,
   "id": "7112db28",
   "metadata": {
    "scrolled": false
   },
   "outputs": [],
   "source": [
    "history_df = pd.DataFrame(history.history)\n",
    "history_df[['acc','val_acc']].plot(title='Accuracy')\n",
    "history_df[['loss','val_loss']].plot(title='Loss')"
   ]
  },
  {
   "cell_type": "code",
   "execution_count": null,
   "id": "1de0f55a",
   "metadata": {},
   "outputs": [],
   "source": [
    "loss,acc = model.evaluate(X_test,test['Status'])\n",
    "acc"
   ]
  },
  {
   "cell_type": "code",
   "execution_count": null,
   "id": "e188a7ca",
   "metadata": {},
   "outputs": [],
   "source": [
    "# newinput = [\"I hope {{Name}} was able to translate your expectations into a reality. We can jump on another call to go through these and collect any feedback. I was also curious about a separate project you discussed which was more suitable for {{Name}}. Would you like to get started there?\"]\n",
    "# newinput = [\"Hi, Rohan! We've heard your feedback, and we're excited to announce the return of our unlimited plan! Thanks to our amazing community, we're empowering you to write as much as you want without worrying about usage costs or how many words you have left. With our unlimited plan, you'll get: Unlimited access to Blog Post Wizard and 90+ writing and creativity tools Four extra seats for your team Translation support to help you reach a global audience Regular updates, priority customer support, and early access to new features Three months free with an annual plan Upgrade today and save an additional 25% with our annual plan!\"]\n",
    "# newinput = [\"Your support is greatly appreciated. I will also share the recording and transcript of the call after the end of the session.\"]"
   ]
  },
  {
   "cell_type": "code",
   "execution_count": null,
   "id": "2606cca4",
   "metadata": {
    "scrolled": true
   },
   "outputs": [],
   "source": [
    "test_df = pd.read_csv(\"TestData.csv\",header=None,encoding='cp1252')\n",
    "test_df.columns = headers\n",
    "original_data = test_df\n",
    "check = test_df['Text'].apply(lambda x : clean(x))\n",
    "testing_data = token.texts_to_sequences(check)\n",
    "testing_data = pad_sequences(testing_data,padding='pre',truncating='pre',maxlen=max_len)"
   ]
  },
  {
   "cell_type": "code",
   "execution_count": null,
   "id": "932ca5d4",
   "metadata": {},
   "outputs": [],
   "source": [
    "loss,acc = model.evaluate(testing_data,original_data['Status'])\n",
    "acc"
   ]
  },
  {
   "cell_type": "code",
   "execution_count": null,
   "id": "9eaa24ca",
   "metadata": {},
   "outputs": [],
   "source": [
    "testing_data"
   ]
  },
  {
   "cell_type": "code",
   "execution_count": null,
   "id": "f68b278a",
   "metadata": {},
   "outputs": [],
   "source": [
    "lstm_results = []"
   ]
  },
  {
   "cell_type": "code",
   "execution_count": null,
   "id": "827dcbb3",
   "metadata": {
    "scrolled": true
   },
   "outputs": [],
   "source": [
    "for i in testing_data:\n",
    "    B = np.reshape(i, (-1, i.size))\n",
    "    result = model.predict(B)\n",
    "    lstm_results.append(round(result[0][0]))\n",
    "    print(round(result[0][0]))\n"
   ]
  },
  {
   "cell_type": "code",
   "execution_count": null,
   "id": "317ba67c",
   "metadata": {},
   "outputs": [],
   "source": [
    "original_data['LSTM_Results'] = lstm_results"
   ]
  },
  {
   "cell_type": "code",
   "execution_count": null,
   "id": "59566d00",
   "metadata": {},
   "outputs": [],
   "source": [
    "original_data.to_csv(\"LSTM-Updated-Results.csv\", encoding='utf-8')"
   ]
  },
  {
   "cell_type": "code",
   "execution_count": null,
   "id": "8a93a553",
   "metadata": {},
   "outputs": [],
   "source": [
    "# update = df.read_csv(\"TestData.csv\")"
   ]
  },
  {
   "cell_type": "code",
   "execution_count": null,
   "id": "81e1b086",
   "metadata": {},
   "outputs": [],
   "source": [
    "# newinput = token.texts_to_sequences(newinput)\n",
    "# newinput = pad_sequences(newinput,padding='pre',truncating='pre',maxlen=max_len)\n",
    "# result = model.predict(newinput)\n",
    "# result"
   ]
  }
 ],
 "metadata": {
  "kernelspec": {
   "display_name": "Python 3 (ipykernel)",
   "language": "python",
   "name": "python3"
  },
  "language_info": {
   "codemirror_mode": {
    "name": "ipython",
    "version": 3
   },
   "file_extension": ".py",
   "mimetype": "text/x-python",
   "name": "python",
   "nbconvert_exporter": "python",
   "pygments_lexer": "ipython3",
   "version": "3.10.8"
  }
 },
 "nbformat": 4,
 "nbformat_minor": 5
}
