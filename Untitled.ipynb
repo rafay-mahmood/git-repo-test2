{
 "cells": [
  {
   "cell_type": "code",
   "execution_count": 1,
   "id": "fbafdb0d",
   "metadata": {},
   "outputs": [],
   "source": [
    "import numpy as np\n",
    "import pandas as pd"
   ]
  },
  {
   "cell_type": "code",
   "execution_count": 2,
   "id": "f61c63f1",
   "metadata": {},
   "outputs": [],
   "source": [
    "import re \n",
    "from tensorflow.keras.models import Sequential\n",
    "from tensorflow.keras.layers import Embedding,LSTM,Dropout,Dense\n",
    "from tensorflow.keras.preprocessing.text import Tokenizer\n",
    "from tensorflow.keras.preprocessing.sequence import pad_sequences\n",
    "from nltk.corpus import stopwords"
   ]
  },
  {
   "cell_type": "code",
   "execution_count": 3,
   "id": "b597cf54",
   "metadata": {},
   "outputs": [],
   "source": [
    "from sklearn.model_selection import train_test_split"
   ]
  },
  {
   "cell_type": "code",
   "execution_count": 4,
   "id": "b5269086",
   "metadata": {},
   "outputs": [],
   "source": [
    "headers=[\"Text\",\"Status\"]"
   ]
  },
  {
   "cell_type": "code",
   "execution_count": 5,
   "id": "8f244e1e",
   "metadata": {},
   "outputs": [],
   "source": [
    "df = pd.read_csv(\"Data.csv\",header=None,encoding='cp1252')\n",
    "df.columns = headers"
   ]
  },
  {
   "cell_type": "code",
   "execution_count": 6,
   "id": "93f669f7",
   "metadata": {},
   "outputs": [
    {
     "data": {
      "text/html": [
       "<div>\n",
       "<style scoped>\n",
       "    .dataframe tbody tr th:only-of-type {\n",
       "        vertical-align: middle;\n",
       "    }\n",
       "\n",
       "    .dataframe tbody tr th {\n",
       "        vertical-align: top;\n",
       "    }\n",
       "\n",
       "    .dataframe thead th {\n",
       "        text-align: right;\n",
       "    }\n",
       "</style>\n",
       "<table border=\"1\" class=\"dataframe\">\n",
       "  <thead>\n",
       "    <tr style=\"text-align: right;\">\n",
       "      <th></th>\n",
       "      <th>Text</th>\n",
       "      <th>Status</th>\n",
       "    </tr>\n",
       "  </thead>\n",
       "  <tbody>\n",
       "    <tr>\n",
       "      <th>0</th>\n",
       "      <td>Hey {{Name}}, This is to confirm today's call ...</td>\n",
       "      <td>1</td>\n",
       "    </tr>\n",
       "    <tr>\n",
       "      <th>1</th>\n",
       "      <td>A reminder that you are scheduled to interview...</td>\n",
       "      <td>0</td>\n",
       "    </tr>\n",
       "    <tr>\n",
       "      <th>2</th>\n",
       "      <td>That's amazing news! Can't wait to hear how th...</td>\n",
       "      <td>1</td>\n",
       "    </tr>\n",
       "    <tr>\n",
       "      <th>3</th>\n",
       "      <td>I hope {{Name}} was able to translate your exp...</td>\n",
       "      <td>1</td>\n",
       "    </tr>\n",
       "    <tr>\n",
       "      <th>4</th>\n",
       "      <td>Please let me know whether or not you will be ...</td>\n",
       "      <td>0</td>\n",
       "    </tr>\n",
       "  </tbody>\n",
       "</table>\n",
       "</div>"
      ],
      "text/plain": [
       "                                                Text  Status\n",
       "0  Hey {{Name}}, This is to confirm today's call ...       1\n",
       "1  A reminder that you are scheduled to interview...       0\n",
       "2  That's amazing news! Can't wait to hear how th...       1\n",
       "3  I hope {{Name}} was able to translate your exp...       1\n",
       "4  Please let me know whether or not you will be ...       0"
      ]
     },
     "execution_count": 6,
     "metadata": {},
     "output_type": "execute_result"
    }
   ],
   "source": [
    "df.head()"
   ]
  },
  {
   "cell_type": "code",
   "execution_count": 7,
   "id": "cefd9b5f",
   "metadata": {},
   "outputs": [],
   "source": [
    "X_train, X_test, y_train, y_test = train_test_split(df, df, random_state=0, train_size = .85)"
   ]
  },
  {
   "cell_type": "code",
   "execution_count": 8,
   "id": "f4afff39",
   "metadata": {},
   "outputs": [],
   "source": [
    "X_train = pd.DataFrame(X_train)\n",
    "X_test = pd.DataFrame(X_test)"
   ]
  },
  {
   "cell_type": "code",
   "execution_count": 9,
   "id": "4d61383f",
   "metadata": {},
   "outputs": [],
   "source": [
    "train = pd.DataFrame(X_train)\n",
    "test = pd.DataFrame(X_test)"
   ]
  },
  {
   "cell_type": "code",
   "execution_count": 10,
   "id": "ed06889e",
   "metadata": {},
   "outputs": [],
   "source": [
    "vocab_size = 5000\n",
    "max_len = 30"
   ]
  },
  {
   "cell_type": "code",
   "execution_count": 11,
   "id": "d0f2d1b9",
   "metadata": {
    "scrolled": true
   },
   "outputs": [],
   "source": [
    "def clean(text):\n",
    "    text = text.lower()\n",
    "    text = re.sub(\"(http|https|www)(:|\\.)\\S+.com\",\" \",text)\n",
    "    text = re.sub(\"[^\\w\\d]\",\" \",text)\n",
    "    text = \" \".join([t for t in text.split()])\n",
    "    return text "
   ]
  },
  {
   "cell_type": "code",
   "execution_count": 12,
   "id": "18fffa9f",
   "metadata": {
    "scrolled": true
   },
   "outputs": [],
   "source": [
    "X_train['Cleaned']=  X_train['Text'].apply(lambda x : clean(x))"
   ]
  },
  {
   "cell_type": "code",
   "execution_count": 13,
   "id": "850efc44",
   "metadata": {},
   "outputs": [
    {
     "data": {
      "text/html": [
       "<div>\n",
       "<style scoped>\n",
       "    .dataframe tbody tr th:only-of-type {\n",
       "        vertical-align: middle;\n",
       "    }\n",
       "\n",
       "    .dataframe tbody tr th {\n",
       "        vertical-align: top;\n",
       "    }\n",
       "\n",
       "    .dataframe thead th {\n",
       "        text-align: right;\n",
       "    }\n",
       "</style>\n",
       "<table border=\"1\" class=\"dataframe\">\n",
       "  <thead>\n",
       "    <tr style=\"text-align: right;\">\n",
       "      <th></th>\n",
       "      <th>Text</th>\n",
       "      <th>Status</th>\n",
       "      <th>Cleaned</th>\n",
       "    </tr>\n",
       "  </thead>\n",
       "  <tbody>\n",
       "    <tr>\n",
       "      <th>1292</th>\n",
       "      <td>I stopped by and missed you. Write back to me ...</td>\n",
       "      <td>0</td>\n",
       "      <td>i stopped by and missed you write back to me w...</td>\n",
       "    </tr>\n",
       "    <tr>\n",
       "      <th>379</th>\n",
       "      <td>{{Name}} was working on {{Project}} earlier to...</td>\n",
       "      <td>1</td>\n",
       "      <td>name was working on project earlier today and ...</td>\n",
       "    </tr>\n",
       "    <tr>\n",
       "      <th>399</th>\n",
       "      <td>Are you going to make tomorrow?</td>\n",
       "      <td>0</td>\n",
       "      <td>are you going to make tomorrow</td>\n",
       "    </tr>\n",
       "    <tr>\n",
       "      <th>1609</th>\n",
       "      <td>Hi {{Name}}, attaching a proposal for our team...</td>\n",
       "      <td>1</td>\n",
       "      <td>hi name attaching a proposal for our team to w...</td>\n",
       "    </tr>\n",
       "    <tr>\n",
       "      <th>117</th>\n",
       "      <td>Hi {{Name}}, attaching a proposal for our team...</td>\n",
       "      <td>1</td>\n",
       "      <td>hi name attaching a proposal for our team to w...</td>\n",
       "    </tr>\n",
       "  </tbody>\n",
       "</table>\n",
       "</div>"
      ],
      "text/plain": [
       "                                                   Text  Status  \\\n",
       "1292  I stopped by and missed you. Write back to me ...       0   \n",
       "379   {{Name}} was working on {{Project}} earlier to...       1   \n",
       "399                     Are you going to make tomorrow?       0   \n",
       "1609  Hi {{Name}}, attaching a proposal for our team...       1   \n",
       "117   Hi {{Name}}, attaching a proposal for our team...       1   \n",
       "\n",
       "                                                Cleaned  \n",
       "1292  i stopped by and missed you write back to me w...  \n",
       "379   name was working on project earlier today and ...  \n",
       "399                      are you going to make tomorrow  \n",
       "1609  hi name attaching a proposal for our team to w...  \n",
       "117   hi name attaching a proposal for our team to w...  "
      ]
     },
     "execution_count": 13,
     "metadata": {},
     "output_type": "execute_result"
    }
   ],
   "source": [
    "X_train.head()"
   ]
  },
  {
   "cell_type": "code",
   "execution_count": 14,
   "id": "cab5e56e",
   "metadata": {},
   "outputs": [],
   "source": [
    "token = Tokenizer(num_words=vocab_size)\n",
    "token.fit_on_texts(X_train['Cleaned'])\n",
    "\n",
    "X_train = token.texts_to_sequences(X_train['Cleaned'])"
   ]
  },
  {
   "cell_type": "code",
   "execution_count": 15,
   "id": "4198ef2c",
   "metadata": {},
   "outputs": [],
   "source": [
    "X_test = X_test['Text'].apply(lambda x : clean(x))\n",
    "X_test = token.texts_to_sequences(X_test)"
   ]
  },
  {
   "cell_type": "code",
   "execution_count": 16,
   "id": "4a0397c6",
   "metadata": {},
   "outputs": [],
   "source": [
    "X_test = pad_sequences(X_test,padding='pre',truncating='pre',maxlen=max_len)"
   ]
  },
  {
   "cell_type": "code",
   "execution_count": 17,
   "id": "1c081d4c",
   "metadata": {
    "scrolled": true
   },
   "outputs": [],
   "source": [
    "X_train = pad_sequences(X_train,maxlen=max_len,padding='pre',truncating='pre')"
   ]
  },
  {
   "cell_type": "code",
   "execution_count": 18,
   "id": "7ade110b",
   "metadata": {},
   "outputs": [
    {
     "data": {
      "text/plain": [
       "array([[   1,   40,   60, ...,   54,  173,  380],\n",
       "       [ 110,   10, 1318, ...,  354,   39,  117],\n",
       "       [1622, 1913,   67, ...,  156,  308,  162],\n",
       "       ...,\n",
       "       [   0,    0,    0, ...,    9,   56, 1480],\n",
       "       [   0,    0,    0, ...,  385,   56, 2600],\n",
       "       [   0,    0,    0, ...,  131,    8,  597]])"
      ]
     },
     "execution_count": 18,
     "metadata": {},
     "output_type": "execute_result"
    }
   ],
   "source": [
    "X_test"
   ]
  },
  {
   "cell_type": "code",
   "execution_count": 19,
   "id": "08ba2074",
   "metadata": {},
   "outputs": [],
   "source": [
    "model = Sequential([\n",
    "    Embedding(vocab_size,100,input_length=max_len),\n",
    "    Dropout(0.2),\n",
    "    LSTM(200),\n",
    "    Dropout(0.2),\n",
    "    Dense(1,activation='sigmoid')\n",
    "])"
   ]
  },
  {
   "cell_type": "code",
   "execution_count": 20,
   "id": "f8e83811",
   "metadata": {},
   "outputs": [],
   "source": [
    "model.compile(loss='binary_crossentropy',optimizer='adam',metrics=['acc'])"
   ]
  },
  {
   "cell_type": "code",
   "execution_count": 21,
   "id": "e342c175",
   "metadata": {},
   "outputs": [
    {
     "name": "stdout",
     "output_type": "stream",
     "text": [
      "Model: \"sequential\"\n",
      "_________________________________________________________________\n",
      " Layer (type)                Output Shape              Param #   \n",
      "=================================================================\n",
      " embedding (Embedding)       (None, 30, 100)           500000    \n",
      "                                                                 \n",
      " dropout (Dropout)           (None, 30, 100)           0         \n",
      "                                                                 \n",
      " lstm (LSTM)                 (None, 200)               240800    \n",
      "                                                                 \n",
      " dropout_1 (Dropout)         (None, 200)               0         \n",
      "                                                                 \n",
      " dense (Dense)               (None, 1)                 201       \n",
      "                                                                 \n",
      "=================================================================\n",
      "Total params: 741,001\n",
      "Trainable params: 741,001\n",
      "Non-trainable params: 0\n",
      "_________________________________________________________________\n"
     ]
    }
   ],
   "source": [
    "model.summary()"
   ]
  },
  {
   "cell_type": "code",
   "execution_count": 22,
   "id": "711ed940",
   "metadata": {},
   "outputs": [
    {
     "name": "stdout",
     "output_type": "stream",
     "text": [
      "Epoch 1/5\n",
      "130/130 [==============================] - 5s 20ms/step - loss: 0.2748 - acc: 0.9043 - val_loss: 0.1811 - val_acc: 0.9592\n",
      "Epoch 2/5\n",
      "130/130 [==============================] - 2s 16ms/step - loss: 0.0718 - acc: 0.9784 - val_loss: 0.0564 - val_acc: 0.9864\n",
      "Epoch 3/5\n",
      "130/130 [==============================] - 2s 17ms/step - loss: 0.0161 - acc: 0.9966 - val_loss: 0.0719 - val_acc: 0.9918\n",
      "Epoch 4/5\n",
      "130/130 [==============================] - 2s 16ms/step - loss: 0.0079 - acc: 0.9986 - val_loss: 0.0813 - val_acc: 0.9918\n",
      "Epoch 5/5\n",
      "130/130 [==============================] - 2s 16ms/step - loss: 0.0042 - acc: 0.9990 - val_loss: 0.0888 - val_acc: 0.9918\n"
     ]
    }
   ],
   "source": [
    "history =  model.fit(X_train,train['Status'],epochs=5,batch_size=16,validation_data=(X_test,test['Status']))\n",
    "# history = model.fit(X_train,y_train)"
   ]
  },
  {
   "cell_type": "code",
   "execution_count": 23,
   "id": "7112db28",
   "metadata": {
    "scrolled": false
   },
   "outputs": [
    {
     "data": {
      "text/plain": [
       "<AxesSubplot: title={'center': 'Loss'}>"
      ]
     },
     "execution_count": 23,
     "metadata": {},
     "output_type": "execute_result"
    },
    {
     "data": {
      "image/png": "[encoded data removed]",
      "text/plain": [
       "<Figure size 640x480 with 1 Axes>"
      ]
     },
     "metadata": {},
     "output_type": "display_data"
    },
    {
     "data": {
      "image/png": "[encoded data removed]",
      "text/plain": [
       "<Figure size 640x480 with 1 Axes>"
      ]
     },
     "metadata": {},
     "output_type": "display_data"
    }
   ],
   "source": [
    "history_df = pd.DataFrame(history.history)\n",
    "history_df[['acc','val_acc']].plot(title='Accuracy')\n",
    "history_df[['loss','val_loss']].plot(title='Loss')"
   ]
  },
  {
   "cell_type": "code",
   "execution_count": 24,
   "id": "1de0f55a",
   "metadata": {},
   "outputs": [
    {
     "name": "stdout",
     "output_type": "stream",
     "text": [
      "12/12 [==============================] - 1s 5ms/step - loss: 0.0888 - acc: 0.9918\n"
     ]
    },
    {
     "data": {
      "text/plain": [
       "0.991847813129425"
      ]
     },
     "execution_count": 24,
     "metadata": {},
     "output_type": "execute_result"
    }
   ],
   "source": [
    "loss,acc = model.evaluate(X_test,test['Status'])\n",
    "acc"
   ]
  },
  {
   "cell_type": "code",
   "execution_count": null,
   "id": "e188a7ca",
   "metadata": {},
   "outputs": [],
   "source": [
    "# newinput = [\"I hope {{Name}} was able to translate your expectations into a reality. We can jump on another call to go through these and collect any feedback. I was also curious about a separate project you discussed which was more suitable for {{Name}}. Would you like to get started there?\"]\n",
    "# newinput = [\"Hi, Rohan! We've heard your feedback, and we're excited to announce the return of our unlimited plan! Thanks to our amazing community, we're empowering you to write as much as you want without worrying about usage costs or how many words you have left. With our unlimited plan, you'll get: Unlimited access to Blog Post Wizard and 90+ writing and creativity tools Four extra seats for your team Translation support to help you reach a global audience Regular updates, priority customer support, and early access to new features Three months free with an annual plan Upgrade today and save an additional 25% with our annual plan!\"]\n",
    "# newinput = [\"Your support is greatly appreciated. I will also share the recording and transcript of the call after the end of the session.\"]"
   ]
  },
  {
   "cell_type": "code",
   "execution_count": 25,
   "id": "2606cca4",
   "metadata": {
    "scrolled": true
   },
   "outputs": [],
   "source": [
    "test_df = pd.read_csv(\"TestData.csv\",header=None,encoding='cp1252')\n",
    "test_df.columns = headers\n",
    "original_data = test_df\n",
    "check = test_df['Text'].apply(lambda x : clean(x))\n",
    "testing_data = token.texts_to_sequences(check)\n",
    "testing_data = pad_sequences(testing_data,padding='pre',truncating='pre',maxlen=max_len)"
   ]
  },
  {
   "cell_type": "code",
   "execution_count": 28,
   "id": "932ca5d4",
   "metadata": {},
   "outputs": [
    {
     "name": "stdout",
     "output_type": "stream",
     "text": [
      "8/8 [==============================] - 0s 7ms/step - loss: 0.0615 - acc: 0.9840\n"
     ]
    },
    {
     "data": {
      "text/plain": [
       "0.984000027179718"
      ]
     },
     "execution_count": 28,
     "metadata": {},
     "output_type": "execute_result"
    }
   ],
   "source": [
    "loss,acc = model.evaluate(testing_data,original_data['Status'])\n",
    "acc"
   ]
  },
  {
   "cell_type": "code",
   "execution_count": 26,
   "id": "9eaa24ca",
   "metadata": {},
   "outputs": [
    {
     "data": {
      "text/plain": [
       "array([[   0,    0,    0, ...,    9,    1,  493],\n",
       "       [2460,   13,  540, ...,   30,    5,   26],\n",
       "       [  40,   21,   29, ...,  124,  147,   16],\n",
       "       ...,\n",
       "       [  52,  911,   96, ...,  195,  105, 1437],\n",
       "       [   0,    0,    0, ...,  629,   44,   58],\n",
       "       [   0,    0,    0, ...,    7,   45,   18]])"
      ]
     },
     "execution_count": 26,
     "metadata": {},
     "output_type": "execute_result"
    }
   ],
   "source": [
    "testing_data"
   ]
  },
  {
   "cell_type": "code",
   "execution_count": 29,
   "id": "f68b278a",
   "metadata": {},
   "outputs": [],
   "source": [
    "lstm_results = []"
   ]
  },
  {
   "cell_type": "code",
   "execution_count": 30,
   "id": "827dcbb3",
   "metadata": {
    "scrolled": true
   },
   "outputs": [
    {
     "name": "stdout",
     "output_type": "stream",
     "text": [
      "1/1 [==============================] - 0s 425ms/step\n",
      "1\n",
      "1/1 [==============================] - 0s 34ms/step\n",
      "1\n",
      "1/1 [==============================] - 0s 30ms/step\n",
      "1\n",
      "1/1 [==============================] - 0s 19ms/step\n",
      "1\n",
      "1/1 [==============================] - 0s 18ms/step\n",
      "0\n",
      "1/1 [==============================] - 0s 19ms/step\n",
      "0\n",
      "1/1 [==============================] - 0s 20ms/step\n",
      "0\n",
      "1/1 [==============================] - 0s 20ms/step\n",
      "0\n",
      "1/1 [==============================] - 0s 17ms/step\n",
      "0\n",
      "1/1 [==============================] - 0s 19ms/step\n",
      "1\n",
      "1/1 [==============================] - 0s 20ms/step\n",
      "0\n",
      "1/1 [==============================] - 0s 9ms/step\n",
      "0\n",
      "1/1 [==============================] - 0s 18ms/step\n",
      "0\n",
      "1/1 [==============================] - 0s 19ms/step\n",
      "0\n",
      "1/1 [==============================] - 0s 18ms/step\n",
      "0\n",
      "1/1 [==============================] - 0s 8ms/step\n",
      "1\n",
      "1/1 [==============================] - 0s 18ms/step\n",
      "0\n",
      "1/1 [==============================] - 0s 18ms/step\n",
      "0\n",
      "1/1 [==============================] - 0s 18ms/step\n",
      "1\n",
      "1/1 [==============================] - 0s 19ms/step\n",
      "1\n",
      "1/1 [==============================] - 0s 16ms/step\n",
      "0\n",
      "1/1 [==============================] - 0s 7ms/step\n",
      "0\n",
      "1/1 [==============================] - 0s 12ms/step\n",
      "0\n",
      "1/1 [==============================] - 0s 17ms/step\n",
      "1\n",
      "1/1 [==============================] - 0s 16ms/step\n",
      "1\n",
      "1/1 [==============================] - 0s 16ms/step\n",
      "1\n",
      "1/1 [==============================] - 0s 33ms/step\n",
      "1\n",
      "1/1 [==============================] - 0s 19ms/step\n",
      "0\n",
      "1/1 [==============================] - 0s 23ms/step\n",
      "1\n",
      "1/1 [==============================] - 0s 18ms/step\n",
      "1\n",
      "1/1 [==============================] - 0s 19ms/step\n",
      "1\n",
      "1/1 [==============================] - 0s 18ms/step\n",
      "0\n",
      "1/1 [==============================] - 0s 19ms/step\n",
      "0\n",
      "1/1 [==============================] - 0s 20ms/step\n",
      "0\n",
      "1/1 [==============================] - 0s 20ms/step\n",
      "1\n",
      "1/1 [==============================] - 0s 19ms/step\n",
      "1\n",
      "1/1 [==============================] - 0s 18ms/step\n",
      "1\n",
      "1/1 [==============================] - 0s 19ms/step\n",
      "0\n",
      "1/1 [==============================] - 0s 20ms/step\n",
      "1\n",
      "1/1 [==============================] - 0s 18ms/step\n",
      "1\n",
      "1/1 [==============================] - 0s 20ms/step\n",
      "1\n",
      "1/1 [==============================] - 0s 22ms/step\n",
      "1\n",
      "1/1 [==============================] - 0s 20ms/step\n",
      "1\n",
      "1/1 [==============================] - 0s 19ms/step\n",
      "0\n",
      "1/1 [==============================] - 0s 19ms/step\n",
      "0\n",
      "1/1 [==============================] - 0s 10ms/step\n",
      "0\n",
      "1/1 [==============================] - 0s 19ms/step\n",
      "1\n",
      "1/1 [==============================] - 0s 18ms/step\n",
      "1\n",
      "1/1 [==============================] - 0s 18ms/step\n",
      "0\n",
      "1/1 [==============================] - 0s 19ms/step\n",
      "0\n",
      "1/1 [==============================] - 0s 20ms/step\n",
      "0\n",
      "1/1 [==============================] - 0s 19ms/step\n",
      "1\n",
      "1/1 [==============================] - 0s 18ms/step\n",
      "1\n",
      "1/1 [==============================] - 0s 21ms/step\n",
      "1\n",
      "1/1 [==============================] - 0s 19ms/step\n",
      "0\n",
      "1/1 [==============================] - 0s 20ms/step\n",
      "0\n",
      "1/1 [==============================] - 0s 18ms/step\n",
      "1\n",
      "1/1 [==============================] - 0s 18ms/step\n",
      "1\n",
      "1/1 [==============================] - 0s 20ms/step\n",
      "0\n",
      "1/1 [==============================] - 0s 20ms/step\n",
      "1\n",
      "1/1 [==============================] - 0s 19ms/step\n",
      "0\n",
      "1/1 [==============================] - 0s 18ms/step\n",
      "0\n",
      "1/1 [==============================] - 0s 20ms/step\n",
      "0\n",
      "1/1 [==============================] - 0s 20ms/step\n",
      "0\n",
      "1/1 [==============================] - 0s 19ms/step\n",
      "0\n",
      "1/1 [==============================] - 0s 17ms/step\n",
      "0\n",
      "1/1 [==============================] - 0s 23ms/step\n",
      "0\n",
      "1/1 [==============================] - 0s 22ms/step\n",
      "1\n",
      "1/1 [==============================] - 0s 20ms/step\n",
      "1\n",
      "1/1 [==============================] - 0s 20ms/step\n",
      "1\n",
      "1/1 [==============================] - 0s 14ms/step\n",
      "1\n",
      "1/1 [==============================] - 0s 15ms/step\n",
      "1\n",
      "1/1 [==============================] - 0s 23ms/step\n",
      "0\n",
      "1/1 [==============================] - 0s 20ms/step\n",
      "0\n",
      "1/1 [==============================] - 0s 21ms/step\n",
      "1\n",
      "1/1 [==============================] - 0s 21ms/step\n",
      "1\n",
      "1/1 [==============================] - 0s 13ms/step\n",
      "0\n",
      "1/1 [==============================] - 0s 15ms/step\n",
      "0\n",
      "1/1 [==============================] - 0s 21ms/step\n",
      "1\n",
      "1/1 [==============================] - 0s 21ms/step\n",
      "1\n",
      "1/1 [==============================] - 0s 19ms/step\n",
      "0\n",
      "1/1 [==============================] - 0s 14ms/step\n",
      "1\n",
      "1/1 [==============================] - 0s 18ms/step\n",
      "0\n",
      "1/1 [==============================] - 0s 19ms/step\n",
      "0\n",
      "1/1 [==============================] - 0s 20ms/step\n",
      "1\n",
      "1/1 [==============================] - 0s 20ms/step\n",
      "1\n",
      "1/1 [==============================] - 0s 15ms/step\n",
      "0\n",
      "1/1 [==============================] - 0s 16ms/step\n",
      "0\n",
      "1/1 [==============================] - 0s 21ms/step\n",
      "0\n",
      "1/1 [==============================] - 0s 18ms/step\n",
      "0\n",
      "1/1 [==============================] - 0s 18ms/step\n",
      "0\n",
      "1/1 [==============================] - 0s 16ms/step\n",
      "1\n",
      "1/1 [==============================] - 0s 19ms/step\n",
      "0\n",
      "1/1 [==============================] - 0s 19ms/step\n",
      "1\n",
      "1/1 [==============================] - 0s 20ms/step\n",
      "1\n",
      "1/1 [==============================] - 0s 19ms/step\n",
      "0\n",
      "1/1 [==============================] - 0s 19ms/step\n",
      "1\n",
      "1/1 [==============================] - 0s 18ms/step\n",
      "1\n",
      "1/1 [==============================] - 0s 19ms/step\n",
      "1\n",
      "1/1 [==============================] - 0s 20ms/step\n",
      "1\n",
      "1/1 [==============================] - 0s 20ms/step\n",
      "1\n",
      "1/1 [==============================] - 0s 19ms/step\n",
      "0\n",
      "1/1 [==============================] - 0s 18ms/step\n",
      "0\n",
      "1/1 [==============================] - 0s 20ms/step\n",
      "0\n",
      "1/1 [==============================] - 0s 19ms/step\n",
      "1\n",
      "1/1 [==============================] - 0s 18ms/step\n",
      "1\n",
      "1/1 [==============================] - 0s 19ms/step\n",
      "0\n",
      "1/1 [==============================] - 0s 19ms/step\n",
      "0\n",
      "1/1 [==============================] - 0s 29ms/step\n",
      "1\n",
      "1/1 [==============================] - 0s 18ms/step\n",
      "1\n",
      "1/1 [==============================] - 0s 19ms/step\n",
      "1\n",
      "1/1 [==============================] - 0s 19ms/step\n",
      "1\n",
      "1/1 [==============================] - 0s 18ms/step\n",
      "1\n",
      "1/1 [==============================] - 0s 18ms/step\n",
      "0\n",
      "1/1 [==============================] - 0s 19ms/step\n",
      "1\n",
      "1/1 [==============================] - 0s 23ms/step\n",
      "1\n",
      "1/1 [==============================] - 0s 19ms/step\n",
      "0\n",
      "1/1 [==============================] - 0s 18ms/step\n",
      "0\n",
      "1/1 [==============================] - 0s 18ms/step\n",
      "0\n",
      "1/1 [==============================] - 0s 20ms/step\n",
      "0\n",
      "1/1 [==============================] - 0s 20ms/step\n",
      "1\n",
      "1/1 [==============================] - 0s 19ms/step\n",
      "1\n",
      "1/1 [==============================] - 0s 18ms/step\n",
      "1\n",
      "1/1 [==============================] - 0s 19ms/step\n",
      "1\n",
      "1/1 [==============================] - 0s 20ms/step\n",
      "0\n",
      "1/1 [==============================] - 0s 18ms/step\n",
      "0\n",
      "1/1 [==============================] - 0s 18ms/step\n",
      "1\n",
      "1/1 [==============================] - 0s 20ms/step\n",
      "0\n",
      "1/1 [==============================] - 0s 20ms/step\n",
      "1\n",
      "1/1 [==============================] - 0s 19ms/step\n",
      "0\n",
      "1/1 [==============================] - 0s 20ms/step\n",
      "1\n",
      "1/1 [==============================] - 0s 23ms/step\n",
      "1\n",
      "1/1 [==============================] - 0s 19ms/step\n",
      "0\n",
      "1/1 [==============================] - 0s 20ms/step\n",
      "1\n",
      "1/1 [==============================] - 0s 25ms/step\n",
      "0\n",
      "1/1 [==============================] - 0s 20ms/step\n",
      "0\n",
      "1/1 [==============================] - 0s 34ms/step\n",
      "0\n",
      "1/1 [==============================] - 0s 20ms/step\n",
      "1\n",
      "1/1 [==============================] - 0s 20ms/step\n",
      "0\n",
      "1/1 [==============================] - 0s 19ms/step\n",
      "1\n",
      "1/1 [==============================] - 0s 18ms/step\n",
      "1\n",
      "1/1 [==============================] - 0s 19ms/step\n",
      "1\n",
      "1/1 [==============================] - 0s 18ms/step\n",
      "1\n",
      "1/1 [==============================] - 0s 18ms/step\n",
      "0\n",
      "1/1 [==============================] - 0s 20ms/step\n",
      "0\n",
      "1/1 [==============================] - 0s 33ms/step\n",
      "0\n",
      "1/1 [==============================] - 0s 18ms/step\n",
      "1\n",
      "1/1 [==============================] - 0s 6ms/step\n",
      "0\n",
      "1/1 [==============================] - 0s 22ms/step\n",
      "0\n",
      "1/1 [==============================] - 0s 20ms/step\n",
      "1\n",
      "1/1 [==============================] - 0s 17ms/step\n",
      "1\n"
     ]
    },
    {
     "name": "stdout",
     "output_type": "stream",
     "text": [
      "1/1 [==============================] - 0s 18ms/step\n",
      "0\n",
      "1/1 [==============================] - 0s 19ms/step\n",
      "1\n",
      "1/1 [==============================] - 0s 18ms/step\n",
      "0\n",
      "1/1 [==============================] - 0s 22ms/step\n",
      "1\n",
      "1/1 [==============================] - 0s 21ms/step\n",
      "1\n",
      "1/1 [==============================] - 0s 19ms/step\n",
      "0\n",
      "1/1 [==============================] - 0s 18ms/step\n",
      "1\n",
      "1/1 [==============================] - 0s 18ms/step\n",
      "0\n",
      "1/1 [==============================] - 0s 19ms/step\n",
      "0\n",
      "1/1 [==============================] - 0s 20ms/step\n",
      "0\n",
      "1/1 [==============================] - 0s 19ms/step\n",
      "0\n",
      "1/1 [==============================] - 0s 18ms/step\n",
      "0\n",
      "1/1 [==============================] - 0s 20ms/step\n",
      "0\n",
      "1/1 [==============================] - 0s 19ms/step\n",
      "0\n",
      "1/1 [==============================] - 0s 17ms/step\n",
      "0\n",
      "1/1 [==============================] - 0s 20ms/step\n",
      "1\n",
      "1/1 [==============================] - 0s 20ms/step\n",
      "1\n",
      "1/1 [==============================] - 0s 18ms/step\n",
      "0\n",
      "1/1 [==============================] - 0s 18ms/step\n",
      "1\n",
      "1/1 [==============================] - 0s 19ms/step\n",
      "0\n",
      "1/1 [==============================] - 0s 19ms/step\n",
      "0\n",
      "1/1 [==============================] - 0s 19ms/step\n",
      "1\n",
      "1/1 [==============================] - 0s 18ms/step\n",
      "1\n",
      "1/1 [==============================] - 0s 19ms/step\n",
      "0\n",
      "1/1 [==============================] - 0s 18ms/step\n",
      "1\n",
      "1/1 [==============================] - 0s 21ms/step\n",
      "1\n",
      "1/1 [==============================] - 0s 30ms/step\n",
      "1\n",
      "1/1 [==============================] - 0s 20ms/step\n",
      "0\n",
      "1/1 [==============================] - 0s 19ms/step\n",
      "1\n",
      "1/1 [==============================] - 0s 21ms/step\n",
      "1\n",
      "1/1 [==============================] - 0s 19ms/step\n",
      "0\n",
      "1/1 [==============================] - 0s 20ms/step\n",
      "0\n",
      "1/1 [==============================] - 0s 20ms/step\n",
      "1\n",
      "1/1 [==============================] - 0s 19ms/step\n",
      "0\n",
      "1/1 [==============================] - 0s 17ms/step\n",
      "1\n",
      "1/1 [==============================] - 0s 22ms/step\n",
      "0\n",
      "1/1 [==============================] - 0s 19ms/step\n",
      "1\n",
      "1/1 [==============================] - 0s 18ms/step\n",
      "0\n",
      "1/1 [==============================] - 0s 18ms/step\n",
      "1\n",
      "1/1 [==============================] - 0s 18ms/step\n",
      "1\n",
      "1/1 [==============================] - 0s 19ms/step\n",
      "1\n",
      "1/1 [==============================] - 0s 19ms/step\n",
      "0\n",
      "1/1 [==============================] - 0s 19ms/step\n",
      "0\n",
      "1/1 [==============================] - 0s 19ms/step\n",
      "1\n",
      "1/1 [==============================] - 0s 19ms/step\n",
      "0\n",
      "1/1 [==============================] - 0s 22ms/step\n",
      "0\n",
      "1/1 [==============================] - 0s 19ms/step\n",
      "1\n",
      "1/1 [==============================] - 0s 19ms/step\n",
      "1\n",
      "1/1 [==============================] - 0s 19ms/step\n",
      "0\n",
      "1/1 [==============================] - 0s 18ms/step\n",
      "0\n",
      "1/1 [==============================] - 0s 18ms/step\n",
      "1\n",
      "1/1 [==============================] - 0s 19ms/step\n",
      "0\n",
      "1/1 [==============================] - 0s 19ms/step\n",
      "1\n",
      "1/1 [==============================] - 0s 18ms/step\n",
      "0\n",
      "1/1 [==============================] - 0s 20ms/step\n",
      "0\n",
      "1/1 [==============================] - 0s 18ms/step\n",
      "0\n",
      "1/1 [==============================] - 0s 19ms/step\n",
      "1\n",
      "1/1 [==============================] - 0s 19ms/step\n",
      "0\n",
      "1/1 [==============================] - 0s 19ms/step\n",
      "0\n",
      "1/1 [==============================] - 0s 19ms/step\n",
      "1\n",
      "1/1 [==============================] - 0s 19ms/step\n",
      "0\n",
      "1/1 [==============================] - 0s 19ms/step\n",
      "0\n",
      "1/1 [==============================] - 0s 18ms/step\n",
      "0\n",
      "1/1 [==============================] - 0s 21ms/step\n",
      "1\n",
      "1/1 [==============================] - 0s 18ms/step\n",
      "1\n",
      "1/1 [==============================] - 0s 19ms/step\n",
      "0\n",
      "1/1 [==============================] - 0s 19ms/step\n",
      "0\n",
      "1/1 [==============================] - 0s 19ms/step\n",
      "0\n",
      "1/1 [==============================] - 0s 18ms/step\n",
      "1\n",
      "1/1 [==============================] - 0s 19ms/step\n",
      "0\n",
      "1/1 [==============================] - 0s 18ms/step\n",
      "1\n",
      "1/1 [==============================] - 0s 21ms/step\n",
      "0\n",
      "1/1 [==============================] - 0s 18ms/step\n",
      "1\n",
      "1/1 [==============================] - 0s 19ms/step\n",
      "1\n",
      "1/1 [==============================] - 0s 19ms/step\n",
      "1\n",
      "1/1 [==============================] - 0s 19ms/step\n",
      "1\n",
      "1/1 [==============================] - 0s 18ms/step\n",
      "0\n",
      "1/1 [==============================] - 0s 19ms/step\n",
      "0\n",
      "1/1 [==============================] - 0s 20ms/step\n",
      "0\n",
      "1/1 [==============================] - 0s 19ms/step\n",
      "1\n",
      "1/1 [==============================] - 0s 18ms/step\n",
      "0\n",
      "1/1 [==============================] - 0s 19ms/step\n",
      "1\n",
      "1/1 [==============================] - 0s 19ms/step\n",
      "0\n",
      "1/1 [==============================] - 0s 18ms/step\n",
      "1\n",
      "1/1 [==============================] - 0s 20ms/step\n",
      "0\n",
      "1/1 [==============================] - 0s 18ms/step\n",
      "1\n",
      "1/1 [==============================] - 0s 19ms/step\n",
      "1\n",
      "1/1 [==============================] - 0s 18ms/step\n",
      "0\n",
      "1/1 [==============================] - 0s 20ms/step\n",
      "0\n",
      "1/1 [==============================] - 0s 20ms/step\n",
      "0\n",
      "1/1 [==============================] - 0s 19ms/step\n",
      "0\n",
      "1/1 [==============================] - 0s 19ms/step\n",
      "0\n",
      "1/1 [==============================] - 0s 18ms/step\n",
      "1\n",
      "1/1 [==============================] - 0s 17ms/step\n",
      "1\n",
      "1/1 [==============================] - 0s 19ms/step\n",
      "1\n",
      "1/1 [==============================] - 0s 20ms/step\n",
      "1\n",
      "1/1 [==============================] - 0s 18ms/step\n",
      "1\n",
      "1/1 [==============================] - 0s 19ms/step\n",
      "1\n",
      "1/1 [==============================] - 0s 18ms/step\n",
      "0\n"
     ]
    }
   ],
   "source": [
    "for i in testing_data:\n",
    "    B = np.reshape(i, (-1, i.size))\n",
    "    result = model.predict(B)\n",
    "    lstm_results.append(round(result[0][0]))\n",
    "    print(round(result[0][0]))\n"
   ]
  },
  {
   "cell_type": "code",
   "execution_count": 31,
   "id": "317ba67c",
   "metadata": {},
   "outputs": [],
   "source": [
    "original_data['LSTM_Results'] = lstm_results"
   ]
  },
  {
   "cell_type": "code",
   "execution_count": 32,
   "id": "59566d00",
   "metadata": {},
   "outputs": [],
   "source": [
    "original_data.to_csv(\"LSTM-Updated-Results.csv\", encoding='utf-8')"
   ]
  },
  {
   "cell_type": "code",
   "execution_count": null,
   "id": "8a93a553",
   "metadata": {},
   "outputs": [],
   "source": [
    "# update = df.read_csv(\"TestData.csv\")"
   ]
  },
  {
   "cell_type": "code",
   "execution_count": null,
   "id": "81e1b086",
   "metadata": {},
   "outputs": [],
   "source": [
    "# newinput = token.texts_to_sequences(newinput)\n",
    "# newinput = pad_sequences(newinput,padding='pre',truncating='pre',maxlen=max_len)\n",
    "# result = model.predict(newinput)\n",
    "# result"
   ]
  }
 ],
 "metadata": {
  "kernelspec": {
   "display_name": "Python 3 (ipykernel)",
   "language": "python",
   "name": "python3"
  },
  "language_info": {
   "codemirror_mode": {
    "name": "ipython",
    "version": 3
   },
   "file_extension": ".py",
   "mimetype": "text/x-python",
   "name": "python",
   "nbconvert_exporter": "python",
   "pygments_lexer": "ipython3",
   "version": "3.10.8"
  }
 },
 "nbformat": 4,
 "nbformat_minor": 5
}
